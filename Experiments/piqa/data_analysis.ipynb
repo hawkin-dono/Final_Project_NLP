{
 "cells": [
  {
   "cell_type": "code",
   "execution_count": 1,
   "metadata": {},
   "outputs": [],
   "source": [
    "import os \n",
    "import pandas as pd \n"
   ]
  },
  {
   "cell_type": "markdown",
   "metadata": {},
   "source": [
    "# load data"
   ]
  },
  {
   "cell_type": "code",
   "execution_count": 6,
   "metadata": {},
   "outputs": [],
   "source": [
    "train_path = \"../data/piqa/piqa_train.json\"\n",
    "val_path = \"../data/piqa/piqa_validation.json\"\n",
    "test_path = \"../data/piqa/piqa_test.json\"\n",
    "\n",
    "train_df = pd.read_json(train_path)\n",
    "val_df = pd.read_json(val_path)\n",
    "test_df = pd.read_json(test_path)\n",
    "\n",
    "\n"
   ]
  },
  {
   "cell_type": "code",
   "execution_count": 7,
   "metadata": {},
   "outputs": [
    {
     "data": {
      "text/html": [
       "<div>\n",
       "<style scoped>\n",
       "    .dataframe tbody tr th:only-of-type {\n",
       "        vertical-align: middle;\n",
       "    }\n",
       "\n",
       "    .dataframe tbody tr th {\n",
       "        vertical-align: top;\n",
       "    }\n",
       "\n",
       "    .dataframe thead th {\n",
       "        text-align: right;\n",
       "    }\n",
       "</style>\n",
       "<table border=\"1\" class=\"dataframe\">\n",
       "  <thead>\n",
       "    <tr style=\"text-align: right;\">\n",
       "      <th></th>\n",
       "      <th>goal</th>\n",
       "      <th>sol1</th>\n",
       "      <th>sol2</th>\n",
       "      <th>label</th>\n",
       "    </tr>\n",
       "  </thead>\n",
       "  <tbody>\n",
       "    <tr>\n",
       "      <th>0</th>\n",
       "      <td>When boiling butter, when it's ready, you can</td>\n",
       "      <td>Pour it onto a plate</td>\n",
       "      <td>Pour it into a jar</td>\n",
       "      <td>1</td>\n",
       "    </tr>\n",
       "    <tr>\n",
       "      <th>1</th>\n",
       "      <td>To permanently attach metal legs to a chair, y...</td>\n",
       "      <td>Weld the metal together to get it to stay firm...</td>\n",
       "      <td>Nail the metal together to get it to stay firm...</td>\n",
       "      <td>0</td>\n",
       "    </tr>\n",
       "    <tr>\n",
       "      <th>2</th>\n",
       "      <td>how do you indent something?</td>\n",
       "      <td>leave a space before starting the writing</td>\n",
       "      <td>press the spacebar</td>\n",
       "      <td>0</td>\n",
       "    </tr>\n",
       "    <tr>\n",
       "      <th>3</th>\n",
       "      <td>how do you shake something?</td>\n",
       "      <td>move it up and down and side to side quickly.</td>\n",
       "      <td>stir it very quickly.</td>\n",
       "      <td>0</td>\n",
       "    </tr>\n",
       "    <tr>\n",
       "      <th>4</th>\n",
       "      <td>Clean tires</td>\n",
       "      <td>Pour water, cape off caked on dirt. Use  speed...</td>\n",
       "      <td>Pour water, scrape off caked on dirt. Use a st...</td>\n",
       "      <td>1</td>\n",
       "    </tr>\n",
       "  </tbody>\n",
       "</table>\n",
       "</div>"
      ],
      "text/plain": [
       "                                                goal  \\\n",
       "0      When boiling butter, when it's ready, you can   \n",
       "1  To permanently attach metal legs to a chair, y...   \n",
       "2                       how do you indent something?   \n",
       "3                        how do you shake something?   \n",
       "4                                        Clean tires   \n",
       "\n",
       "                                                sol1  \\\n",
       "0                               Pour it onto a plate   \n",
       "1  Weld the metal together to get it to stay firm...   \n",
       "2          leave a space before starting the writing   \n",
       "3      move it up and down and side to side quickly.   \n",
       "4  Pour water, cape off caked on dirt. Use  speed...   \n",
       "\n",
       "                                                sol2  label  \n",
       "0                                 Pour it into a jar      1  \n",
       "1  Nail the metal together to get it to stay firm...      0  \n",
       "2                                 press the spacebar      0  \n",
       "3                              stir it very quickly.      0  \n",
       "4  Pour water, scrape off caked on dirt. Use a st...      1  "
      ]
     },
     "execution_count": 7,
     "metadata": {},
     "output_type": "execute_result"
    }
   ],
   "source": [
    "train_df.head()\n"
   ]
  },
  {
   "cell_type": "code",
   "execution_count": 9,
   "metadata": {},
   "outputs": [
    {
     "data": {
      "text/html": [
       "<div>\n",
       "<style scoped>\n",
       "    .dataframe tbody tr th:only-of-type {\n",
       "        vertical-align: middle;\n",
       "    }\n",
       "\n",
       "    .dataframe tbody tr th {\n",
       "        vertical-align: top;\n",
       "    }\n",
       "\n",
       "    .dataframe thead th {\n",
       "        text-align: right;\n",
       "    }\n",
       "</style>\n",
       "<table border=\"1\" class=\"dataframe\">\n",
       "  <thead>\n",
       "    <tr style=\"text-align: right;\">\n",
       "      <th></th>\n",
       "      <th>goal</th>\n",
       "      <th>sol1</th>\n",
       "      <th>sol2</th>\n",
       "      <th>label</th>\n",
       "    </tr>\n",
       "  </thead>\n",
       "  <tbody>\n",
       "    <tr>\n",
       "      <th>0</th>\n",
       "      <td>How do I ready a guinea pig cage for it's new ...</td>\n",
       "      <td>Provide the guinea pig with a cage full of a f...</td>\n",
       "      <td>Provide the guinea pig with a cage full of a f...</td>\n",
       "      <td>0</td>\n",
       "    </tr>\n",
       "    <tr>\n",
       "      <th>1</th>\n",
       "      <td>dresser</td>\n",
       "      <td>replace drawer with bobby pin</td>\n",
       "      <td>finish, woodgrain with  bobby pin</td>\n",
       "      <td>1</td>\n",
       "    </tr>\n",
       "    <tr>\n",
       "      <th>2</th>\n",
       "      <td>To fight Ivan Drago in Rocky for sega master s...</td>\n",
       "      <td>Drago isn't in this game because it was releas...</td>\n",
       "      <td>You have to defeat Apollo Creed and Clubber La...</td>\n",
       "      <td>1</td>\n",
       "    </tr>\n",
       "    <tr>\n",
       "      <th>3</th>\n",
       "      <td>Make outdoor pillow.</td>\n",
       "      <td>Blow into tin can and tie with rubber band.</td>\n",
       "      <td>Blow into trash bag and tie with rubber band.</td>\n",
       "      <td>1</td>\n",
       "    </tr>\n",
       "    <tr>\n",
       "      <th>4</th>\n",
       "      <td>ice box</td>\n",
       "      <td>will turn into a cooler if you add water to it</td>\n",
       "      <td>will turn into a cooler if you add soda to it</td>\n",
       "      <td>0</td>\n",
       "    </tr>\n",
       "  </tbody>\n",
       "</table>\n",
       "</div>"
      ],
      "text/plain": [
       "                                                goal  \\\n",
       "0  How do I ready a guinea pig cage for it's new ...   \n",
       "1                                            dresser   \n",
       "2  To fight Ivan Drago in Rocky for sega master s...   \n",
       "3                               Make outdoor pillow.   \n",
       "4                                            ice box   \n",
       "\n",
       "                                                sol1  \\\n",
       "0  Provide the guinea pig with a cage full of a f...   \n",
       "1                     replace drawer with bobby pin    \n",
       "2  Drago isn't in this game because it was releas...   \n",
       "3        Blow into tin can and tie with rubber band.   \n",
       "4     will turn into a cooler if you add water to it   \n",
       "\n",
       "                                                sol2  label  \n",
       "0  Provide the guinea pig with a cage full of a f...      0  \n",
       "1                 finish, woodgrain with  bobby pin       1  \n",
       "2  You have to defeat Apollo Creed and Clubber La...      1  \n",
       "3      Blow into trash bag and tie with rubber band.      1  \n",
       "4      will turn into a cooler if you add soda to it      0  "
      ]
     },
     "execution_count": 9,
     "metadata": {},
     "output_type": "execute_result"
    }
   ],
   "source": [
    "val_df.head()\n",
    "\n",
    "\n"
   ]
  },
  {
   "cell_type": "code",
   "execution_count": 10,
   "metadata": {},
   "outputs": [
    {
     "data": {
      "text/html": [
       "<div>\n",
       "<style scoped>\n",
       "    .dataframe tbody tr th:only-of-type {\n",
       "        vertical-align: middle;\n",
       "    }\n",
       "\n",
       "    .dataframe tbody tr th {\n",
       "        vertical-align: top;\n",
       "    }\n",
       "\n",
       "    .dataframe thead th {\n",
       "        text-align: right;\n",
       "    }\n",
       "</style>\n",
       "<table border=\"1\" class=\"dataframe\">\n",
       "  <thead>\n",
       "    <tr style=\"text-align: right;\">\n",
       "      <th></th>\n",
       "      <th>goal</th>\n",
       "      <th>sol1</th>\n",
       "      <th>sol2</th>\n",
       "      <th>label</th>\n",
       "    </tr>\n",
       "  </thead>\n",
       "  <tbody>\n",
       "    <tr>\n",
       "      <th>0</th>\n",
       "      <td>how do you puncture a vein?</td>\n",
       "      <td>hit it at the wrong angle and make it bleed.</td>\n",
       "      <td>pop it.</td>\n",
       "      <td>-1</td>\n",
       "    </tr>\n",
       "    <tr>\n",
       "      <th>1</th>\n",
       "      <td>hands</td>\n",
       "      <td>is used to put on shoe</td>\n",
       "      <td>is used to put on milk jug</td>\n",
       "      <td>-1</td>\n",
       "    </tr>\n",
       "    <tr>\n",
       "      <th>2</th>\n",
       "      <td>What ingredients do I need to make a shortcrus...</td>\n",
       "      <td>To make pie crust, you will need flour, sugar,...</td>\n",
       "      <td>To make pie crust, you will need flour, sugar,...</td>\n",
       "      <td>-1</td>\n",
       "    </tr>\n",
       "    <tr>\n",
       "      <th>3</th>\n",
       "      <td>roast broccoli</td>\n",
       "      <td>Preheat oven to 450 degrees F.    Toss the bro...</td>\n",
       "      <td>Preheat oven to 450 degrees F.    Toss the bro...</td>\n",
       "      <td>-1</td>\n",
       "    </tr>\n",
       "    <tr>\n",
       "      <th>4</th>\n",
       "      <td>To crimp the edges of the patsy crust.</td>\n",
       "      <td>Use a knife to crimp the edges.</td>\n",
       "      <td>Use a fork to crimp the edges</td>\n",
       "      <td>-1</td>\n",
       "    </tr>\n",
       "  </tbody>\n",
       "</table>\n",
       "</div>"
      ],
      "text/plain": [
       "                                                goal  \\\n",
       "0                        how do you puncture a vein?   \n",
       "1                                              hands   \n",
       "2  What ingredients do I need to make a shortcrus...   \n",
       "3                                     roast broccoli   \n",
       "4             To crimp the edges of the patsy crust.   \n",
       "\n",
       "                                                sol1  \\\n",
       "0       hit it at the wrong angle and make it bleed.   \n",
       "1                            is used to put on shoe    \n",
       "2  To make pie crust, you will need flour, sugar,...   \n",
       "3  Preheat oven to 450 degrees F.    Toss the bro...   \n",
       "4                    Use a knife to crimp the edges.   \n",
       "\n",
       "                                                sol2  label  \n",
       "0                                            pop it.     -1  \n",
       "1                        is used to put on milk jug      -1  \n",
       "2  To make pie crust, you will need flour, sugar,...     -1  \n",
       "3  Preheat oven to 450 degrees F.    Toss the bro...     -1  \n",
       "4                      Use a fork to crimp the edges     -1  "
      ]
     },
     "execution_count": 10,
     "metadata": {},
     "output_type": "execute_result"
    }
   ],
   "source": [
    "test_df.head()\n"
   ]
  },
  {
   "cell_type": "markdown",
   "metadata": {},
   "source": [
    "# Length analysis"
   ]
  },
  {
   "cell_type": "code",
   "execution_count": 13,
   "metadata": {},
   "outputs": [
    {
     "data": {
      "text/plain": [
       "count    16113.000000\n",
       "mean         7.060076\n",
       "std          3.635874\n",
       "min          1.000000\n",
       "25%          5.000000\n",
       "50%          7.000000\n",
       "75%          9.000000\n",
       "max         34.000000\n",
       "Name: goal, dtype: float64"
      ]
     },
     "execution_count": 13,
     "metadata": {},
     "output_type": "execute_result"
    }
   ],
   "source": [
    "train_df['goal'].apply(lambda x: len(x.split())).describe()\n"
   ]
  },
  {
   "cell_type": "code",
   "execution_count": 15,
   "metadata": {},
   "outputs": [
    {
     "data": {
      "image/png": "[encoded data removed]",
      "text/plain": [
       "<Figure size 640x480 with 1 Axes>"
      ]
     },
     "metadata": {},
     "output_type": "display_data"
    }
   ],
   "source": [
    "import matplotlib.pyplot as plt\n",
    "plt.title(\"Goal Length Distribution (word level)\")\n",
    "plt.hist(train_df['goal'].apply(lambda x: len(x.split())), bins=100)\n",
    "plt.show()\n",
    "\n",
    "\n"
   ]
  },
  {
   "cell_type": "code",
   "execution_count": 16,
   "metadata": {},
   "outputs": [
    {
     "data": {
      "text/plain": [
       "count    1838.000000\n",
       "mean        7.083787\n",
       "std         3.647886\n",
       "min         1.000000\n",
       "25%         5.000000\n",
       "50%         7.000000\n",
       "75%         9.000000\n",
       "max        23.000000\n",
       "Name: goal, dtype: float64"
      ]
     },
     "execution_count": 16,
     "metadata": {},
     "output_type": "execute_result"
    }
   ],
   "source": [
    "val_df['goal'].apply(lambda x: len(x.split())).describe()\n"
   ]
  },
  {
   "cell_type": "code",
   "execution_count": 17,
   "metadata": {},
   "outputs": [
    {
     "data": {
      "image/png": "[encoded data removed]",
      "text/plain": [
       "<Figure size 640x480 with 1 Axes>"
      ]
     },
     "metadata": {},
     "output_type": "display_data"
    }
   ],
   "source": [
    "plt.title(\"Goal Length Distribution (word level)\")\n",
    "plt.hist(val_df['goal'].apply(lambda x: len(x.split())), bins=100)\n",
    "plt.show()\n",
    "\n",
    "\n"
   ]
  },
  {
   "cell_type": "code",
   "execution_count": 18,
   "metadata": {},
   "outputs": [
    {
     "data": {
      "text/plain": [
       "count    3084.000000\n",
       "mean        7.026913\n",
       "std         3.638139\n",
       "min         1.000000\n",
       "25%         5.000000\n",
       "50%         7.000000\n",
       "75%         9.000000\n",
       "max        29.000000\n",
       "Name: goal, dtype: float64"
      ]
     },
     "execution_count": 18,
     "metadata": {},
     "output_type": "execute_result"
    }
   ],
   "source": [
    "test_df['goal'].apply(lambda x: len(x.split())).describe()\n"
   ]
  },
  {
   "cell_type": "code",
   "execution_count": 19,
   "metadata": {},
   "outputs": [
    {
     "data": {
      "image/png": "[encoded data removed]",
      "text/plain": [
       "<Figure size 640x480 with 1 Axes>"
      ]
     },
     "metadata": {},
     "output_type": "display_data"
    }
   ],
   "source": [
    "plt.title(\"Goal Length Distribution (word level)\")\n",
    "plt.hist(test_df['goal'].apply(lambda x: len(x.split())), bins=100)\n",
    "plt.show()\n",
    "\n",
    "\n"
   ]
  },
  {
   "cell_type": "markdown",
   "metadata": {},
   "source": [
    "# Check null, duplicate, and unique\n"
   ]
  },
  {
   "cell_type": "code",
   "execution_count": 20,
   "metadata": {},
   "outputs": [
    {
     "data": {
      "text/plain": [
       "goal     0\n",
       "sol1     0\n",
       "sol2     0\n",
       "label    0\n",
       "dtype: int64"
      ]
     },
     "execution_count": 20,
     "metadata": {},
     "output_type": "execute_result"
    }
   ],
   "source": [
    "train_df.isnull().sum()\n"
   ]
  },
  {
   "cell_type": "code",
   "execution_count": 23,
   "metadata": {},
   "outputs": [
    {
     "data": {
      "text/html": [
       "<div>\n",
       "<style scoped>\n",
       "    .dataframe tbody tr th:only-of-type {\n",
       "        vertical-align: middle;\n",
       "    }\n",
       "\n",
       "    .dataframe tbody tr th {\n",
       "        vertical-align: top;\n",
       "    }\n",
       "\n",
       "    .dataframe thead th {\n",
       "        text-align: right;\n",
       "    }\n",
       "</style>\n",
       "<table border=\"1\" class=\"dataframe\">\n",
       "  <thead>\n",
       "    <tr style=\"text-align: right;\">\n",
       "      <th></th>\n",
       "      <th>goal</th>\n",
       "      <th>sol1</th>\n",
       "      <th>sol2</th>\n",
       "      <th>label</th>\n",
       "    </tr>\n",
       "  </thead>\n",
       "  <tbody>\n",
       "    <tr>\n",
       "      <th>4923</th>\n",
       "      <td>What supplies are needed to make Easter inspir...</td>\n",
       "      <td>Plastic Eggs or Egg Ornaments        4 small c...</td>\n",
       "      <td>Plastic Eggs or Egg Ornaments        4 small c...</td>\n",
       "      <td>1</td>\n",
       "    </tr>\n",
       "    <tr>\n",
       "      <th>5014</th>\n",
       "      <td>How to peel a banana?</td>\n",
       "      <td>Hold both ends of the banana and peel back sec...</td>\n",
       "      <td>Hold one end of the banana and peel back secti...</td>\n",
       "      <td>1</td>\n",
       "    </tr>\n",
       "    <tr>\n",
       "      <th>11667</th>\n",
       "      <td>How to make a vodka and soda?</td>\n",
       "      <td>Put some ice in a glass. Measure an ounce and ...</td>\n",
       "      <td>Put some ice in a glass. Measure an ounce and ...</td>\n",
       "      <td>0</td>\n",
       "    </tr>\n",
       "    <tr>\n",
       "      <th>13927</th>\n",
       "      <td>How to curb your dog?</td>\n",
       "      <td>Before the dog defecates, wear the plastic bag...</td>\n",
       "      <td>After the dog defecates, wear the plastic bag ...</td>\n",
       "      <td>1</td>\n",
       "    </tr>\n",
       "    <tr>\n",
       "      <th>14482</th>\n",
       "      <td>How to fold a bedsheet?</td>\n",
       "      <td>Hold a corner of the bedsheet in each hand, fo...</td>\n",
       "      <td>Hold a corner of the bedsheet in each hand, fo...</td>\n",
       "      <td>1</td>\n",
       "    </tr>\n",
       "    <tr>\n",
       "      <th>15078</th>\n",
       "      <td>sandwich bag</td>\n",
       "      <td>can be recycled</td>\n",
       "      <td>can be frozen</td>\n",
       "      <td>0</td>\n",
       "    </tr>\n",
       "  </tbody>\n",
       "</table>\n",
       "</div>"
      ],
      "text/plain": [
       "                                                    goal  \\\n",
       "4923   What supplies are needed to make Easter inspir...   \n",
       "5014                               How to peel a banana?   \n",
       "11667                      How to make a vodka and soda?   \n",
       "13927                              How to curb your dog?   \n",
       "14482                            How to fold a bedsheet?   \n",
       "15078                                       sandwich bag   \n",
       "\n",
       "                                                    sol1  \\\n",
       "4923   Plastic Eggs or Egg Ornaments        4 small c...   \n",
       "5014   Hold both ends of the banana and peel back sec...   \n",
       "11667  Put some ice in a glass. Measure an ounce and ...   \n",
       "13927  Before the dog defecates, wear the plastic bag...   \n",
       "14482  Hold a corner of the bedsheet in each hand, fo...   \n",
       "15078                                   can be recycled    \n",
       "\n",
       "                                                    sol2  label  \n",
       "4923   Plastic Eggs or Egg Ornaments        4 small c...      1  \n",
       "5014   Hold one end of the banana and peel back secti...      1  \n",
       "11667  Put some ice in a glass. Measure an ounce and ...      0  \n",
       "13927  After the dog defecates, wear the plastic bag ...      1  \n",
       "14482  Hold a corner of the bedsheet in each hand, fo...      1  \n",
       "15078                                     can be frozen       0  "
      ]
     },
     "execution_count": 23,
     "metadata": {},
     "output_type": "execute_result"
    }
   ],
   "source": [
    "dup_train = train_df[train_df.duplicated()]\n",
    "\n",
    "dup_train\n"
   ]
  },
  {
   "cell_type": "code",
   "execution_count": null,
   "metadata": {},
   "outputs": [],
   "source": []
  }
 ],
 "metadata": {
  "kernelspec": {
   "display_name": "env",
   "language": "python",
   "name": "python3"
  },
  "language_info": {
   "codemirror_mode": {
    "name": "ipython",
    "version": 3
   },
   "file_extension": ".py",
   "mimetype": "text/x-python",
   "name": "python",
   "nbconvert_exporter": "python",
   "pygments_lexer": "ipython3",
   "version": "3.12.2"
  }
 },
 "nbformat": 4,
 "nbformat_minor": 2
}
